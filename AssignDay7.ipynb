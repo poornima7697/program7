{
 "cells": [
  {
   "cell_type": "code",
   "execution_count": 46,
   "id": "64fe8a13",
   "metadata": {},
   "outputs": [
    {
     "name": "stdout",
     "output_type": "stream",
     "text": [
      "W\n",
      "e\n",
      "l\n",
      "c\n",
      "o\n",
      "m\n",
      "e\n",
      ",\n",
      " \n",
      "\n",
      "\n",
      "I\n",
      "n\n",
      " \n",
      "P\n",
      "y\n",
      "t\n",
      "h\n",
      "o\n",
      "n\n",
      " \n",
      "P\n",
      "r\n",
      "o\n",
      "g\n",
      "r\n",
      "a\n",
      "m\n",
      "m\n",
      "i\n",
      "n\n",
      "g\n",
      " \n",
      "l\n",
      "a\n",
      "n\n",
      "g\n",
      "u\n",
      "a\n",
      "g\n",
      "e\n"
     ]
    }
   ],
   "source": [
    "#.Read contents of file character by character .\n",
    "file=open(\"D:\\AIT ASSIGN\\pp.txt\", \"r\")\n",
    "for line in file:\n",
    "    for character in line:\n",
    "        print(character)"
   ]
  },
  {
   "cell_type": "code",
   "execution_count": 47,
   "id": "ed124196",
   "metadata": {},
   "outputs": [
    {
     "name": "stdout",
     "output_type": "stream",
     "text": [
      "1 Welcome,\n",
      "2 In Python Programming language\n"
     ]
    }
   ],
   "source": [
    "#2. 1.Read contents of file line by line\n",
    "file=open(\"D:\\AIT ASSIGN\\pp.txt\",\"r\")\n",
    "count=0\n",
    "for line in file:\n",
    "    count+=1\n",
    "    print(count,line.strip())"
   ]
  },
  {
   "cell_type": "code",
   "execution_count": 12,
   "id": "2ad7be0b",
   "metadata": {},
   "outputs": [
    {
     "name": "stdout",
     "output_type": "stream",
     "text": [
      "Welcome,\n",
      "In\n",
      "Python\n",
      "Programming\n",
      "language\n"
     ]
    }
   ],
   "source": [
    "#3. 1.Read contents of file word by word .\n",
    "with open(\"D:\\AIT ASSIGN\\pp.txt\") as file:\n",
    "    for line in file:\n",
    "        for word in line.split():\n",
    "            print(word) "
   ]
  },
  {
   "cell_type": "code",
   "execution_count": 24,
   "id": "3acc83d1",
   "metadata": {},
   "outputs": [],
   "source": [
    "#4. remove file1\n",
    "import os"
   ]
  },
  {
   "cell_type": "code",
   "execution_count": 26,
   "id": "ffa429af",
   "metadata": {},
   "outputs": [
    {
     "name": "stdout",
     "output_type": "stream",
     "text": [
      "D:\\sf.txt removed successfully\n"
     ]
    }
   ],
   "source": [
    "path=\"D:\\sf.txt\"\n",
    "try:\n",
    "    os.remove(path)\n",
    "    print(\"% s removed successfully\" % path)\n",
    "except OSError as error:\n",
    "    print(error)\n",
    "    print(\"File path can not be removed\")"
   ]
  },
  {
   "cell_type": "code",
   "execution_count": 44,
   "id": "899611ec",
   "metadata": {},
   "outputs": [
    {
     "name": "stdout",
     "output_type": "stream",
     "text": [
      "file copied sucessfully\n"
     ]
    }
   ],
   "source": [
    "#5. copy contents from one file to another\n",
    "with open(\"D:\\AIT ASSIGN\\pp.txt\",'r') as firstfile, open(\"D:\\AIT ASSIGN\\sfile.txt\",'a') as secondfile:\n",
    "    for line in firstfile:\n",
    "        secondfile.write(line)\n",
    "    print(\"file copied sucessfully\")"
   ]
  },
  {
   "cell_type": "code",
   "execution_count": 45,
   "id": "4b986593",
   "metadata": {},
   "outputs": [
    {
     "name": "stdout",
     "output_type": "stream",
     "text": [
      "create a new file\n"
     ]
    }
   ],
   "source": [
    "#6. copy contents from one file to another\n",
    "with open('second.txt', 'w') as f:\n",
    "    print(\"create a new file\")"
   ]
  },
  {
   "cell_type": "code",
   "execution_count": null,
   "id": "171a355c",
   "metadata": {},
   "outputs": [],
   "source": []
  }
 ],
 "metadata": {
  "kernelspec": {
   "display_name": "Python 3 (ipykernel)",
   "language": "python",
   "name": "python3"
  },
  "language_info": {
   "codemirror_mode": {
    "name": "ipython",
    "version": 3
   },
   "file_extension": ".py",
   "mimetype": "text/x-python",
   "name": "python",
   "nbconvert_exporter": "python",
   "pygments_lexer": "ipython3",
   "version": "3.9.7"
  }
 },
 "nbformat": 4,
 "nbformat_minor": 5
}
